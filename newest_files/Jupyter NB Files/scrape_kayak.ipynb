{
 "cells": [
  {
   "cell_type": "code",
   "execution_count": 208,
   "metadata": {},
   "outputs": [],
   "source": [
    "from bs4 import BeautifulSoup\n",
    "from splinter import Browser\n",
    "import pandas as pd\n",
    "import requests\n",
    "import selenium\n",
    "from selenium import webdriver\n",
    "import time\n",
    "import random"
   ]
  },
  {
   "cell_type": "code",
   "execution_count": 209,
   "metadata": {},
   "outputs": [],
   "source": [
    "def init_browser(): \n",
    "    executable_path = {'executable_path': '/usr/local/Caskroom/chromedriver/79.0.3945.36/chromedriver'}\n",
    "    return Browser('chrome', **executable_path, headless=False)\n"
   ]
  },
  {
   "cell_type": "code",
   "execution_count": 210,
   "metadata": {},
   "outputs": [
    {
     "name": "stdout",
     "output_type": "stream",
     "text": [
      " # of adults will be traveling?1\n",
      " # Children traveling with you?0\n",
      " Starting airportMIA\n",
      "Trip start date (yyy/mm/dd)2020-02-25\n",
      "Trip end date (yy/mm/dd)2020-03-25\n",
      "airport 1JFK\n",
      "days at airport 14\n",
      "airport 2MAD\n",
      "days at airport 23\n",
      "airport 3CDG\n",
      "days at airport 35\n"
     ]
    }
   ],
   "source": [
    "#variables\n",
    "pax = input(' # of adults will be traveling?')\n",
    "children = input(' # Children traveling with you?')\n",
    "p0 = input(' Starting airport') \n",
    "startdate = input('Trip start date (yyy/mm/dd)')\n",
    "enddate = input('Trip end date (yy/mm/dd)')\n",
    "p1 = input('airport 1')\n",
    "d1 = input('days at airport 1')\n",
    "p2 = input('airport 2')\n",
    "d2 = input('days at airport 2')\n",
    "p3 = input('airport 3')\n",
    "d3 = input('days at airport 3')"
   ]
  },
  {
   "cell_type": "code",
   "execution_count": 211,
   "metadata": {},
   "outputs": [],
   "source": [
    "url=('https://nomad.kayak.com/us/nomad/results/'+p0+'~'+startdate+'_'+ enddate+ '~--/'+p0+ '~--~--/' +p1+'~-~'+d1 +'/'+p2+'~-~'+d2+'/'+p3+'~-~'+d3+'?cabinClass=economy-false')\n",
    "    \n",
    "    "
   ]
  },
  {
   "cell_type": "code",
   "execution_count": 212,
   "metadata": {},
   "outputs": [
    {
     "data": {
      "text/plain": [
       "'https://nomad.kayak.com/us/nomad/results/MIA~2020-02-25_2020-03-25~--/MIA~--~--/JFK~-~4/MAD~-~3/CDG~-~5?cabinClass=economy-false'"
      ]
     },
     "execution_count": 212,
     "metadata": {},
     "output_type": "execute_result"
    }
   ],
   "source": [
    "url\n",
    "\n",
    "#https://nomad.kayak.com/us/nomad/results/MIA~2020-02-18_2020-03-18~--/MIA~--~--/LHR~-~5/CDG~-~5/MAD~-~3?cabinClass=economy-false"
   ]
  },
  {
   "cell_type": "code",
   "execution_count": 213,
   "metadata": {},
   "outputs": [
    {
     "name": "stdout",
     "output_type": "stream",
     "text": [
      "[9, 12, 10, 5, 8]\n"
     ]
    }
   ],
   "source": [
    "my_list = [4, 5, 6, 7, 8, 9, 10, 11, 12]\n",
    "my_samp = 5\n",
    "randy =(random.sample(my_list,  my_samp))\n",
    "print (randy)"
   ]
  },
  {
   "cell_type": "code",
   "execution_count": 214,
   "metadata": {},
   "outputs": [],
   "source": [
    "def kayak():\n",
    "    browser = init_browser()\n",
    "    url=('https://nomad.kayak.com/us/nomad/results/'+p0+'~'+startdate+'_'+ enddate+ '~--/'+p0+ '~--~--/' +p1+'~-~'+d1 +'/'+p2+'~-~'+d2+'/'+p3+'~-~'+d3+'?cabinClass=economy-false')\n",
    "    browser.visit(url)\n",
    "    time.sleep(randy[0])\n",
    "    html = browser.html \n",
    "    time.sleep(randy[1])\n",
    "    soup = BeautifulSoup(html, 'html.parser')\n",
    "    time.sleep(randy[2])\n",
    "    answer=soup.find('div',class_=\"NomadResultCardstyled__StyledNomadItinerary-sc-1t1silp-0 bcmGXO\").text\n",
    "    time.sleep(randy[3])\n",
    "    price=soup.find('div',class_=\"NomadResultCardstyled__BookingButtonWrapper-sc-1t1silp-11 eAZNek\").text\n",
    "    time.sleep(randy[4])\n",
    "    link=soup.find('a',class_=\"Button__StyledButton-sc-1brqp3f-1 ieorKO\").get('href')\n",
    "    return answer,price,link\n"
   ]
  },
  {
   "cell_type": "code",
   "execution_count": 216,
   "metadata": {},
   "outputs": [],
   "source": [
    "def scrape():\n",
    "    \n",
    "    data_dict = {}\n",
    "    kayak_split = kayak()\n",
    "    data_dict['answer'] = kayak_split[0]\n",
    "    data_dict['price'] = kayak_split[1]\n",
    "    data_dict['link'] = kayak_split[2]\n",
    "\n",
    "    return data_dict"
   ]
  },
  {
   "cell_type": "code",
   "execution_count": 217,
   "metadata": {},
   "outputs": [
    {
     "data": {
      "text/plain": [
       "{'answer': 'Start from MiamiTue Mar 3,\\xa04:45 PM10h 35mMadridStay 3 nightsSat Mar 7,\\xa06:05 PM2h 05mParisStay 5 nightsThu Mar 12,\\xa06:05 PM8h 25mNew YorkStay 4 nightsMon Mar 16,\\xa03:37 PM3h 21mEnd in Miami',\n",
       " 'price': 'Book for $ 640',\n",
       " 'link': 'https://www.kiwi.com/booking?from=MIA&to=MAD&departure=03-03-2020&flightsId=0f6b0a2247940000b1bad998_0%7C0f6b0a2247940000b1bad998_1%7C0a2225c347980000936e422c_0%7C25c320a1479d00002436f570_0%7C20a10f6b47a10000926d57cd_0&price=593.0&passengers=1&affilid=kayaknomadwl&lang=us&currency=usd&booking_token=AJA1L-AZ2xuLa-sWJiW68e2Ske0Wtm25FN4rnrUHRef_htbvPkWmYiW0bGBUXp13UZQZzbITA7R5aQFxTdc8qiAKt3vbUgnkj06HrkvMphaYu6FeGCV7ep0AM7MqekPZPND04vLh5RaOfMWy-0pxnNAnleQFyr9dPv8IGI61rHpBfvXishDdjMI13tM8yCIp38LXPuz7vXewS9Sxv6mOPECLBoJmK2BEzzjSdLiwTFRwTXFI64d80wwyPvQQSx8yhIpKpVZDWSsIr7KFnFo_vHPDsqxxtDJGrOWBHA4T9AKdmmsPFrkBruL_rS1O-98VzOyyO38O3-crIav2oi8p-LuUqLq_klPd2saS767b8HbgwEX_nuBSoXhVIR2L6KUOL_A5eTBQZmyHww5I_sZR9mVTcEVWX9wksoLk844TQdWVebsT4dC9Irfh5KgcDkNDI2LTzcElugkvO1tFnkaAu6vBeONXU0pcMgmjLG0beo-vh-P-BLOBsWI1OW1OinKtgZIRA-Q4OhNu7suMRL2hm171vWc8hQJofJMRSCpGpoWx-97gt8qWfexfBazgBRZUI&type2=nomad'}"
      ]
     },
     "execution_count": 217,
     "metadata": {},
     "output_type": "execute_result"
    }
   ],
   "source": [
    "scrape()"
   ]
  },
  {
   "cell_type": "code",
   "execution_count": null,
   "metadata": {},
   "outputs": [],
   "source": []
  },
  {
   "cell_type": "code",
   "execution_count": null,
   "metadata": {},
   "outputs": [],
   "source": []
  }
 ],
 "metadata": {
  "kernelspec": {
   "display_name": "Python 3",
   "language": "python",
   "name": "python3"
  },
  "language_info": {
   "codemirror_mode": {
    "name": "ipython",
    "version": 3
   },
   "file_extension": ".py",
   "mimetype": "text/x-python",
   "name": "python",
   "nbconvert_exporter": "python",
   "pygments_lexer": "ipython3",
   "version": "3.7.4"
  }
 },
 "nbformat": 4,
 "nbformat_minor": 2
}

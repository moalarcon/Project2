{
 "cells": [
  {
   "cell_type": "markdown",
   "metadata": {},
   "source": [
    "# Scraping code takes a list of cities and returns top three attractions from tripexpert.com"
   ]
  },
  {
   "cell_type": "markdown",
   "metadata": {},
   "source": [
    "## \"city list\" (below) should be replaced with input list from users, perhaps uploaded from csv"
   ]
  },
  {
   "cell_type": "code",
   "execution_count": 1,
   "metadata": {},
   "outputs": [],
   "source": [
    "from splinter import Browser\n",
    "from splinter.exceptions import ElementDoesNotExist\n",
    "from bs4 import BeautifulSoup"
   ]
  },
  {
   "cell_type": "markdown",
   "metadata": {},
   "source": [
    "# Mac Users"
   ]
  },
  {
   "cell_type": "code",
   "execution_count": null,
   "metadata": {},
   "outputs": [],
   "source": [
    "# https://splinter.readthedocs.io/en/latest/drivers/chrome.html\n",
    "!which chromedriver"
   ]
  },
  {
   "cell_type": "code",
   "execution_count": 2,
   "metadata": {},
   "outputs": [],
   "source": [
    "executable_path = {'executable_path': '/usr/local/bin/chromedriver'}\n",
    "browser = Browser('chrome', **executable_path, headless=False)"
   ]
  },
  {
   "cell_type": "code",
   "execution_count": 3,
   "metadata": {},
   "outputs": [],
   "source": [
    "city_list = ['sao paulo', 'brussels', 'seattle', 'munich']"
   ]
  },
  {
   "cell_type": "code",
   "execution_count": 4,
   "metadata": {},
   "outputs": [],
   "source": [
    "att_name = []\n",
    "att_listing = []\n",
    "att_link = []\n"
   ]
  },
  {
   "cell_type": "code",
   "execution_count": null,
   "metadata": {},
   "outputs": [],
   "source": [
    "# #TESTING download of results and parsing\n",
    "# url = 'https://www.tripexpert.com/medellin/attractions'\n",
    "# url = url.replace(\" \",\"\")\n",
    "# browser.visit(url)\n",
    "# html = browser.html\n",
    "# soup = BeautifulSoup(html, 'html.parser')\n",
    "# banner = soup.find('div', class_='hotels fleft clearfix')\n",
    "# print(banner.prettify())"
   ]
  },
  {
   "cell_type": "code",
   "execution_count": null,
   "metadata": {},
   "outputs": [],
   "source": [
    "# names = banner.find_all('h2')\n",
    "# name = names[0].a.text.strip()\n",
    "# link = names[0].a['href']\n",
    "# desc = banner.find('div', class_='tabcontent')\n",
    "# desc = desc.p.text.strip()\n"
   ]
  },
  {
   "cell_type": "code",
   "execution_count": null,
   "metadata": {},
   "outputs": [],
   "source": [
    "# desc = banner.find_all('div', class_='tabcontent')\n",
    "# # desc = desc.p.text.strip()\n",
    "# desc = desc[0].text.strip()\n",
    "# print(desc)"
   ]
  },
  {
   "cell_type": "code",
   "execution_count": 5,
   "metadata": {},
   "outputs": [
    {
     "name": "stdout",
     "output_type": "stream",
     "text": [
      "https://www.tripexpert.com/sao-paulo/attractions\n",
      "https://www.tripexpert.com/brussels/attractions\n",
      "https://www.tripexpert.com/seattle/attractions\n",
      "https://www.tripexpert.com/munich/attractions\n"
     ]
    }
   ],
   "source": [
    "for x in range(len(city_list)):\n",
    "    url = 'https://www.tripexpert.com/' + city_list[x] + '/attractions'\n",
    "    url = url.replace(\" \",\"-\")\n",
    "    print(url)\n",
    "    browser.visit(url)\n",
    "    html = browser.html\n",
    "    soup = BeautifulSoup(html, 'html.parser')\n",
    "    banner = soup.find('div', class_='hotels fleft clearfix')\n",
    "    names = banner.find_all('h2')\n",
    "    desc = banner.find_all('div', class_='tabcontent')\n",
    "    name1 = names[0].a.text.strip()\n",
    "    att_name.append(name1)\n",
    "    link1 = names[0].a['href']\n",
    "    att_link.append(link1)\n",
    "    desc1 = desc[0].text.strip()\n",
    "    att_listing.append(desc1)\n",
    "    name2 = names[1].a.text.strip()\n",
    "    att_name.append(name2)\n",
    "    link2 = names[1].a['href']\n",
    "    att_link.append(link2)\n",
    "    desc2 = desc[1].text.strip()\n",
    "    att_listing.append(desc2)\n",
    "    name3 = names[2].a.text.strip()\n",
    "    att_name.append(name3)\n",
    "    link3 = names[2].a['href']\n",
    "    att_link.append(link3)\n",
    "    desc3 = desc[2].text.strip()\n",
    "    att_listing.append(desc3)\n",
    "    \n"
   ]
  },
  {
   "cell_type": "code",
   "execution_count": 6,
   "metadata": {},
   "outputs": [
    {
     "data": {
      "text/plain": [
       "[('Afro Brazil Museum',\n",
       "  '/sao-paulo/attractions/afro-brazil-museum-1059983',\n",
       "  \"One of the city's best and most important museums is slightly off the radar despite its privileged position in Ibirapuera Park (São Paulo's largest urban green space), but its captivating permanent collection chronicling five centuries of African immigration is well worth seeking out\\n—\\nAfar Magazine\\n\\n\\nDedicated to showing the cultural achievements of Africans in Brazil, both those brought as slaves and their descendants, this museum is thankfully neither boring nor earnest nor prone to guilt-inducing lectures\\n—\\nFrommer's\\n\\n\\nThe exhibition shows the importance of African culture in Brazil, from the time of slavery to the present day, through very diverse pieces.\\n—\\nMichelin Guide\\n\\n\\nAmong Parque Ibirapuera's various attractions, natural and architectural, this museum might easily pass unnoticed.\\n—\\nFodor's\\n\\n\\nThis hugely important, absolutely fascinating Parque do Ibirapuera museum features a permanent 3rd-floor collection chronicling five centuries of African immigration.\\n—\\nLonely Planet\"),\n",
       " ('Mercado Municipal de Sao Paulo',\n",
       "  '/sao-paulo/attractions/mercado-municipal-de-sao-paulo',\n",
       "  \"Inside is a delightful market specializing in fresh produce and dried goods.\\n—\\nLonely Planet\\n\\n\\nThe city's first grocery market, this huge 1928 neo-baroque-style building is the quintessential hot spot for gourmets and food lovers.\\n—\\nFodor's\\n\\n\\nThis gorgeous market hall with its skylights and stained-glass windows is a fabulous setting for the city's largest food and produce market.\\n—\\nFrommer's\"),\n",
       " ('Pinacoteca do Estado de Sao Paulo',\n",
       "  '/sao-paulo/attractions/pinacoteca-do-estado-de-sao-paulo',\n",
       "  \"The city's oldest art museum dates back to 1905 and is an absolute bonanza of both Brazilian and Paulista art from the 19th century to the present.\\n—\\nAfar Magazine\\n\\n\\nThis elegant neoclassical museum houses an excellent collection of Brazilian – and especially Paulista – art from the 19th century to the present, including works by big names.\\n—\\nLonely Planet\\n\\n\\nJust next door to Parque Luz, one of São Paulo's few quiet spots, is the Pinacoteca do Estado. The venue, admirably restored by Paulo Mendes da Rocha, does full justice to the...\\n—\\nMichelin Guide\"),\n",
       " ('Grand Place',\n",
       "  '/brussels/attractions/grand-place',\n",
       "  \"Grand Place is Brussels’ UNESCO-listed central market square. Standing in its cobbled centre and doing a 360-degree turn to take in all of the stunning architecture is a must.\\n—\\nAfar Magazine\\n\\n\\nBrussels’s central square\\xa0is the jewel in its crown, a masterpiece of theatrical architecture\\n—\\nThe Telegraph\\n\\n\\nThis jewel box of a square is arguably Europe's most ornate and most theatrical.\\n—\\nFodor's\\n\\n\\nThe historic center of Brussels is a grand place known, naturally, as the Grand Place\\n—\\nLet's Go\\n\\n\\nBrussels' incomparable central square tops any itinerary.\\n—\\nLonely Planet\"),\n",
       " ('Musical Instruments Museum (MIM)',\n",
       "  '/brussels/attractions/musical-instruments-museum-mim',\n",
       "  \"The Musical Instrument Museum would be worth seeing even if it were empty, since it's housed in the beautiful Art Nouveau former Old England department store.\\n—\\nConcierge\\n\\n\\nThis fascinating collection of more than 8000 instruments is internationally renowned. Rather than just looking at the exhibits, you actually get to experience them.\\n—\\nAfar Magazine\\n\\n\\nIf you have the slightest interest in music, the history of instruments, or just cool art deco buildings, you should get yourself on down to MIM.\\n—\\nLet's Go\\n\\n\\nIn addition to seeing the more than 1,500 instruments on display, you can listen to them via infrared headphones, and you can hear musical extracts from almost every instrument.\\n—\\nFodor's\\n\\n\\nThis internationally renowned museum of musical instruments (MIM)... from all over the world and from every era.\\n—\\nMichelin Guide\"),\n",
       " ('Horta Museum',\n",
       "  '/brussels/attractions/horta-museum',\n",
       "  \"The typically austere exterior doesn’t give much away, but Victor Horta’s former home (designed and built 1898–1901) is an art nouveau jewel.\\n—\\nLonely Planet\\n\\n\\nAs Gaudí is to Barcelona, Victor Horta is to Brussels, and this, his former house, is now his museum.\\n—\\nConcierge\\n\\n\\nThe city owes much of its rich Art Nouveau heritage to the inspired creative vision of Victor Horta, a resident architect who led the style's development.\\n—\\nFrommer's\\n\\n\\nThe house where Victor Horta (1861–1947), one of the major founders of Art Nouveau, lived and worked until 1919 is the best place to see his mesmerizing interiors and furniture.\\n—\\nFodor's\\n\\n\\nThis huge project is a wonder of harmony and elegance, the very essence of Art Nouveau with glass and iron taking centre-stage and gracious curves prevailing.\\n—\\nMichelin Guide\"),\n",
       " ('Museum of Pop Culture',\n",
       "  '/seattle/attractions/museum-of-pop-culture',\n",
       "  \"Recently rebranded as the EMP Museum, this dramatic marriage of super-modern architecture and rock-n-roll history was inaugurated as The Experience Music Project (EMP) in 2000.\\n—\\nLonely Planet\\n\\n\\nThis multicolored blobular building, a 140,000-square-foot rock-and-roll museum designed by Frank Gehry, is home to the world's largest collection of Jimi Hendrix memorabilia.\\n—\\nConcierge\\n\\n\\nNow they have big, changing shows (for add-on fees, of course), like a recent one on Jim Henson and the Muppets.\\n—\\nFrommer's\\n\\n\\nSo much is offered in one space, it’s hard to know where to begin\\n—\\nOn the Grid\\n\\n\\nThis sheet-metal fever dream by architect Frank Gehry is like a rock-and-roll Guggenheim, home to interactive exhibits that span music, sci-fi, fantasy, animation, video games, and other...\\n—\\nAfar Magazine\"),\n",
       " ('Pike Place Market',\n",
       "  '/seattle/attractions/pike-place-market',\n",
       "  \"Seattle's Pike Place Market has been hawking fresh fish and produce for more than a century, making it one of the oldest farmers' markets in the United States\\n—\\nCondé Nast Traveler\\n\\n\\nThe new MarketFront, which will convert a parking lot on Western Ave. into a public plaza and space for even more farmers, craftspeople and artists.\\n—\\nWhere\\n\\n\\nOne of the nation's largest and oldest public markets, Pike Place Market dates from 1907, when the city issued permits allowing farmers to sell produce from wagons parked at Pike Place.\\n—\\nFodor's\\n\\n\\nPike Place Market is the city's most famous place to shop, fronted by a fish stall where fishmongers toss each other salmon and halibut over the heads of their patrons.\\n—\\nTravel + Leisure\\n\\n\\nA cavalcade of noise, smells, personalities, banter and urban theater that's almost London-like in its cosmopolitanism.\\n—\\nLonely Planet\"),\n",
       " ('Hiram M. Chittenden Locks',\n",
       "  '/seattle/attractions/hiram-m-chittenden-locks',\n",
       "  'Seattle shimmers like an impressionist painting on sunny days at the Hiram M Chittenden Locks.\\n—\\nLonely Planet\\n\\n\\nThe Ballard Locks are a mechanical marvel that makes nerdy engineers of even the most casual observer.\\n—\\nCondé Nast Traveler\\n\\n\\nCalled the Ballard Locks by locals.\\n—\\nMichelin Guide\\n\\n\\nIndustrial-age marvel; watch the local salmon populations dwindle before your very eyes!\\n—\\nNot For Tourists\\n\\n\\nAdmire exotic plants in the botanical garden—which hosts picnickers and outdoor concerts—and watch the salmon leap the fish ladder from an underwater viewing room.\\n—\\nWhere'),\n",
       " ('Deutsches Museum',\n",
       "  '/munich/attractions/deutsches-museum',\n",
       "  \"One of the largest science and technology museums in the world - traces the development of science and technology to the present day.\\n—\\nMichelin Guide\\n\\n\\nMy whole family had so much fun in this museum we could easily have spent the entire day here.\\n—\\nAfar Magazine\\n\\n\\nOn an island in the Isar River, in the heart of Munich, this is the largest technological museum of its kind in the world.\\n—\\nFrommer's\\n\\n\\nAn hour or so in the Deutsches Museum will teach you more than all your introductory science classes combined\\n—\\nLet's Go\\n\\n\\nAircraft, vehicles, cutting-edge technology, historic machinery, and even a mine fill a monumental building on an island in the Isar River.\\n—\\nFodor's\"),\n",
       " ('Nymphenburg Palace',\n",
       "  '/munich/attractions/nymphenburg-palace',\n",
       "  'This commanding palace and its lavish gardens sprawl around 5km northwest of the Altstadt.\\n—\\nLonely Planet\\n\\n\\nNymphenburg Palace (\"Schloss Nymphenburg\" in German) is a Baroque palace built between 1664 and 1675.\\n—\\nAfar Magazine\\n\\n\\nIn summer, the Wittelsbachs would pack up their bags and head for their country house, Schloss Nymphenburg.\\n—\\nFrommer\\'s\\n\\n\\nThis glorious baroque and rococo palace, the largest of its kind in Germany, draws around 500,000 visitors a year; only the Deustches Museum is more popular in Munich.\\n—\\nFodor\\'s\\n\\n\\nThis castle was the summer residence of the Prince-electors and kings of Bavaria.\\n—\\nMichelin Guide'),\n",
       " ('Marienplatz',\n",
       "  '/munich/attractions/marienplatz',\n",
       "  \"This square is named after the gilded statue of the Virgin Mary that has watched over it for more than three centuries.\\n—\\nFodor's\\n\\n\\nThe pedestrian area around Marienplatz is the heart of Munich.\\n—\\nLet's Go\\n\\n\\nThe heart and soul of the Altstadt, Marienplatz, is a popular gathering spot and packs a lot of personality into its relatively small frame.\\n—\\nLonely Planet\\n\\n\\nThis is where the heart of Munich beats hardest.\\n—\\nMichelin Guide\\n\\n\\nA large pedestrian-only square in the heart of Munich’s Altstadt... many of the city’s attractions are clustered in the vicinity.\\n—\\nFrommer's\")]"
      ]
     },
     "execution_count": 6,
     "metadata": {},
     "output_type": "execute_result"
    }
   ],
   "source": [
    "summary = list(zip(att_name, att_link, att_listing))\n",
    "summary"
   ]
  },
  {
   "cell_type": "code",
   "execution_count": 15,
   "metadata": {},
   "outputs": [],
   "source": [
    "summary_list = []"
   ]
  },
  {
   "cell_type": "code",
   "execution_count": 18,
   "metadata": {},
   "outputs": [
    {
     "ename": "SyntaxError",
     "evalue": "invalid syntax (<ipython-input-18-5f7b85517953>, line 3)",
     "output_type": "error",
     "traceback": [
      "\u001b[0;36m  File \u001b[0;32m\"<ipython-input-18-5f7b85517953>\"\u001b[0;36m, line \u001b[0;32m3\u001b[0m\n\u001b[0;31m    j=[i:(i+3)]\u001b[0m\n\u001b[0m        ^\u001b[0m\n\u001b[0;31mSyntaxError\u001b[0m\u001b[0;31m:\u001b[0m invalid syntax\n"
     ]
    }
   ],
   "source": [
    "i=0\n",
    "for x in range(len(summary)):\n",
    "    j=[i:(i+3)]\n",
    "    summary_list.append(j)\n",
    "    i = +3\n",
    "    \n",
    "    \n",
    "    "
   ]
  },
  {
   "cell_type": "code",
   "execution_count": 11,
   "metadata": {},
   "outputs": [
    {
     "data": {
      "text/plain": [
       "[('Afro Brazil Museum',\n",
       "  '/sao-paulo/attractions/afro-brazil-museum-1059983',\n",
       "  \"One of the city's best and most important museums is slightly off the radar despite its privileged position in Ibirapuera Park (São Paulo's largest urban green space), but its captivating permanent collection chronicling five centuries of African immigration is well worth seeking out\\n—\\nAfar Magazine\\n\\n\\nDedicated to showing the cultural achievements of Africans in Brazil, both those brought as slaves and their descendants, this museum is thankfully neither boring nor earnest nor prone to guilt-inducing lectures\\n—\\nFrommer's\\n\\n\\nThe exhibition shows the importance of African culture in Brazil, from the time of slavery to the present day, through very diverse pieces.\\n—\\nMichelin Guide\\n\\n\\nAmong Parque Ibirapuera's various attractions, natural and architectural, this museum might easily pass unnoticed.\\n—\\nFodor's\\n\\n\\nThis hugely important, absolutely fascinating Parque do Ibirapuera museum features a permanent 3rd-floor collection chronicling five centuries of African immigration.\\n—\\nLonely Planet\"),\n",
       " ('Mercado Municipal de Sao Paulo',\n",
       "  '/sao-paulo/attractions/mercado-municipal-de-sao-paulo',\n",
       "  \"Inside is a delightful market specializing in fresh produce and dried goods.\\n—\\nLonely Planet\\n\\n\\nThe city's first grocery market, this huge 1928 neo-baroque-style building is the quintessential hot spot for gourmets and food lovers.\\n—\\nFodor's\\n\\n\\nThis gorgeous market hall with its skylights and stained-glass windows is a fabulous setting for the city's largest food and produce market.\\n—\\nFrommer's\"),\n",
       " ('Pinacoteca do Estado de Sao Paulo',\n",
       "  '/sao-paulo/attractions/pinacoteca-do-estado-de-sao-paulo',\n",
       "  \"The city's oldest art museum dates back to 1905 and is an absolute bonanza of both Brazilian and Paulista art from the 19th century to the present.\\n—\\nAfar Magazine\\n\\n\\nThis elegant neoclassical museum houses an excellent collection of Brazilian – and especially Paulista – art from the 19th century to the present, including works by big names.\\n—\\nLonely Planet\\n\\n\\nJust next door to Parque Luz, one of São Paulo's few quiet spots, is the Pinacoteca do Estado. The venue, admirably restored by Paulo Mendes da Rocha, does full justice to the...\\n—\\nMichelin Guide\")]"
      ]
     },
     "execution_count": 11,
     "metadata": {},
     "output_type": "execute_result"
    }
   ],
   "source": [
    "summary[0:3]"
   ]
  },
  {
   "cell_type": "code",
   "execution_count": 14,
   "metadata": {},
   "outputs": [
    {
     "data": {
      "text/plain": [
       "[('Grand Place',\n",
       "  '/brussels/attractions/grand-place',\n",
       "  \"Grand Place is Brussels’ UNESCO-listed central market square. Standing in its cobbled centre and doing a 360-degree turn to take in all of the stunning architecture is a must.\\n—\\nAfar Magazine\\n\\n\\nBrussels’s central square\\xa0is the jewel in its crown, a masterpiece of theatrical architecture\\n—\\nThe Telegraph\\n\\n\\nThis jewel box of a square is arguably Europe's most ornate and most theatrical.\\n—\\nFodor's\\n\\n\\nThe historic center of Brussels is a grand place known, naturally, as the Grand Place\\n—\\nLet's Go\\n\\n\\nBrussels' incomparable central square tops any itinerary.\\n—\\nLonely Planet\"),\n",
       " ('Musical Instruments Museum (MIM)',\n",
       "  '/brussels/attractions/musical-instruments-museum-mim',\n",
       "  \"The Musical Instrument Museum would be worth seeing even if it were empty, since it's housed in the beautiful Art Nouveau former Old England department store.\\n—\\nConcierge\\n\\n\\nThis fascinating collection of more than 8000 instruments is internationally renowned. Rather than just looking at the exhibits, you actually get to experience them.\\n—\\nAfar Magazine\\n\\n\\nIf you have the slightest interest in music, the history of instruments, or just cool art deco buildings, you should get yourself on down to MIM.\\n—\\nLet's Go\\n\\n\\nIn addition to seeing the more than 1,500 instruments on display, you can listen to them via infrared headphones, and you can hear musical extracts from almost every instrument.\\n—\\nFodor's\\n\\n\\nThis internationally renowned museum of musical instruments (MIM)... from all over the world and from every era.\\n—\\nMichelin Guide\"),\n",
       " ('Horta Museum',\n",
       "  '/brussels/attractions/horta-museum',\n",
       "  \"The typically austere exterior doesn’t give much away, but Victor Horta’s former home (designed and built 1898–1901) is an art nouveau jewel.\\n—\\nLonely Planet\\n\\n\\nAs Gaudí is to Barcelona, Victor Horta is to Brussels, and this, his former house, is now his museum.\\n—\\nConcierge\\n\\n\\nThe city owes much of its rich Art Nouveau heritage to the inspired creative vision of Victor Horta, a resident architect who led the style's development.\\n—\\nFrommer's\\n\\n\\nThe house where Victor Horta (1861–1947), one of the major founders of Art Nouveau, lived and worked until 1919 is the best place to see his mesmerizing interiors and furniture.\\n—\\nFodor's\\n\\n\\nThis huge project is a wonder of harmony and elegance, the very essence of Art Nouveau with glass and iron taking centre-stage and gracious curves prevailing.\\n—\\nMichelin Guide\")]"
      ]
     },
     "execution_count": 14,
     "metadata": {},
     "output_type": "execute_result"
    }
   ],
   "source": [
    "summary[3:6]"
   ]
  },
  {
   "cell_type": "code",
   "execution_count": null,
   "metadata": {},
   "outputs": [],
   "source": []
  },
  {
   "cell_type": "code",
   "execution_count": null,
   "metadata": {},
   "outputs": [],
   "source": []
  }
 ],
 "metadata": {
  "kernelspec": {
   "display_name": "Python 3",
   "language": "python",
   "name": "python3"
  },
  "language_info": {
   "codemirror_mode": {
    "name": "ipython",
    "version": 3
   },
   "file_extension": ".py",
   "mimetype": "text/x-python",
   "name": "python",
   "nbconvert_exporter": "python",
   "pygments_lexer": "ipython3",
   "version": "3.7.4"
  },
  "varInspector": {
   "cols": {
    "lenName": 16,
    "lenType": 16,
    "lenVar": 40
   },
   "kernels_config": {
    "python": {
     "delete_cmd_postfix": "",
     "delete_cmd_prefix": "del ",
     "library": "var_list.py",
     "varRefreshCmd": "print(var_dic_list())"
    },
    "r": {
     "delete_cmd_postfix": ") ",
     "delete_cmd_prefix": "rm(",
     "library": "var_list.r",
     "varRefreshCmd": "cat(var_dic_list()) "
    }
   },
   "types_to_exclude": [
    "module",
    "function",
    "builtin_function_or_method",
    "instance",
    "_Feature"
   ],
   "window_display": false
  }
 },
 "nbformat": 4,
 "nbformat_minor": 2
}

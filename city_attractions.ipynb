{
 "cells": [
  {
   "cell_type": "markdown",
   "metadata": {},
   "source": [
    "# Scraping code takes a list of cities and returns top three attractions from tripexpert.com"
   ]
  },
  {
   "cell_type": "markdown",
   "metadata": {},
   "source": [
    "## \"city list\" (below) should be replaced with input list from users, perhaps uploaded from csv"
   ]
  },
  {
   "cell_type": "code",
   "execution_count": 1,
   "metadata": {},
   "outputs": [],
   "source": [
    "from splinter import Browser\n",
    "from splinter.exceptions import ElementDoesNotExist\n",
    "from bs4 import BeautifulSoup"
   ]
  },
  {
   "cell_type": "markdown",
   "metadata": {},
   "source": [
    "# Mac Users"
   ]
  },
  {
   "cell_type": "code",
   "execution_count": null,
   "metadata": {},
   "outputs": [],
   "source": [
    "# https://splinter.readthedocs.io/en/latest/drivers/chrome.html\n",
    "!which chromedriver"
   ]
  },
  {
   "cell_type": "code",
   "execution_count": 2,
   "metadata": {},
   "outputs": [],
   "source": [
    "executable_path = {'executable_path': '/usr/local/bin/chromedriver'}\n",
    "browser = Browser('chrome', **executable_path, headless=False)"
   ]
  },
  {
   "cell_type": "code",
   "execution_count": 3,
   "metadata": {},
   "outputs": [],
   "source": [
    "city_list = ['paris', 'sydney', 'shanghai']"
   ]
  },
  {
   "cell_type": "code",
   "execution_count": 4,
   "metadata": {},
   "outputs": [],
   "source": [
    "att_name = []\n",
    "att_listing = []\n",
    "att_link = []\n"
   ]
  },
  {
   "cell_type": "code",
   "execution_count": null,
   "metadata": {},
   "outputs": [],
   "source": [
    "# #TESTING download of results and parsing\n",
    "# url = 'https://www.tripexpert.com/medellin/attractions'\n",
    "# url = url.replace(\" \",\"\")\n",
    "# browser.visit(url)\n",
    "# html = browser.html\n",
    "# soup = BeautifulSoup(html, 'html.parser')\n",
    "# banner = soup.find('div', class_='hotels fleft clearfix')\n",
    "# print(banner.prettify())"
   ]
  },
  {
   "cell_type": "code",
   "execution_count": null,
   "metadata": {},
   "outputs": [],
   "source": [
    "# names = banner.find_all('h2')\n",
    "# name = names[0].a.text.strip()\n",
    "# link = names[0].a['href']\n",
    "# desc = banner.find('div', class_='tabcontent')\n",
    "# desc = desc.p.text.strip()\n"
   ]
  },
  {
   "cell_type": "code",
   "execution_count": null,
   "metadata": {},
   "outputs": [],
   "source": [
    "# desc = banner.find_all('div', class_='tabcontent')\n",
    "# # desc = desc.p.text.strip()\n",
    "# desc = desc[0].text.strip()\n",
    "# print(desc)"
   ]
  },
  {
   "cell_type": "code",
   "execution_count": 5,
   "metadata": {},
   "outputs": [
    {
     "name": "stdout",
     "output_type": "stream",
     "text": [
      "https://www.tripexpert.com/paris/attractions\n",
      "https://www.tripexpert.com/sydney/attractions\n",
      "https://www.tripexpert.com/shanghai/attractions\n"
     ]
    }
   ],
   "source": [
    "for x in range(len(city_list)):\n",
    "    url = 'https://www.tripexpert.com/' + city_list[x] + '/attractions'\n",
    "    url = url.replace(\" \",\"-\")\n",
    "    print(url)\n",
    "    browser.visit(url)\n",
    "    html = browser.html\n",
    "    soup = BeautifulSoup(html, 'html.parser')\n",
    "    banner = soup.find('div', class_='hotels fleft clearfix')\n",
    "    names = banner.find_all('h2')\n",
    "    desc = banner.find_all('div', class_='tabcontent')\n",
    "    name1 = names[0].a.text.strip()\n",
    "    att_name.append(name1)\n",
    "    link1 = names[0].a['href']\n",
    "    att_link.append(link1)\n",
    "    desc1 = desc[0].text.strip()\n",
    "    att_listing.append(desc1)\n",
    "    name2 = names[1].a.text.strip()\n",
    "    att_name.append(name2)\n",
    "    link2 = names[1].a['href']\n",
    "    att_link.append(link2)\n",
    "    desc2 = desc[1].text.strip()\n",
    "    att_listing.append(desc2)\n",
    "    name3 = names[2].a.text.strip()\n",
    "    att_name.append(name3)\n",
    "    link3 = names[2].a['href']\n",
    "    att_link.append(link3)\n",
    "    desc3 = desc[2].text.strip()\n",
    "    att_listing.append(desc3)\n",
    "    \n"
   ]
  },
  {
   "cell_type": "code",
   "execution_count": 6,
   "metadata": {},
   "outputs": [
    {
     "data": {
      "text/plain": [
       "[(\"Musee d'Orsay\",\n",
       "  '/paris/attractions/musee-dorsay',\n",
       "  \"The highlights in this glass and metal monster gem include: Courbet’s 'L’Origine du monde' and 'Un enterrement à Ornans,' as well as Millet’s 'Glaneuses' and Corot’s landscapes.\\n—\\nTime Out\\n\\n\\nWe visit the Impressionists Gallery, maybe seek out Van Gogh's Self-Portrait or Starry Night, and then sneak off for wine and cheese in Café Campana.\\n—\\nCondé Nast Traveler\\n\\n\\nThe Orsay boasts an astounding collection devoted to the watershed years 1848 to 1914, with a treasure-trove by the big names plus all the lesser-known groups.\\n—\\nFrommer's\\n\\n\\nThis fine museum, housed in a\\xa01900\\xa0railway\\xa0station,\\xa0was inaugurated in 1986 and is now high on the list for any art-enthusiastic visitors\\xa0to\\xa0the city.\\n—\\nThe Telegraph\\n\\n\\nThis gorgeously renovated Belle Époque train station displays a world-famous collection of Impressionist and Post-Impressionist paintings on three floors.\\n—\\nFodor's\"),\n",
       " ('Louvre Museum',\n",
       "  '/paris/attractions/louvre-museum',\n",
       "  \"The museum is a never-ending labyrinth with thousands of art collections, paintings, sculptures from all time periods and varying art genres.\\n—\\nAfar Magazine\\n\\n\\nUnless you’re planning on bunking up next to the Venus de Milo, seeing everything at the Louvre is impossible. Just getting a glimpse of what’s in front of you, though, is a pretty good start.\\n—\\nLet's Go\\n\\n\\nThe Louvre is the world's largest palace and museum, and it houses one of the greatest art collections ever.\\n—\\nFrommer's\\n\\n\\nFor eight centuries, the Louvre was the residence of kings and emperors. Successive expansion projects have created one of the world's largest palaces, along with the Vatican.\\n—\\nMichelin Guide\\n\\n\\nThe most recognized symbol of Paris is the Tour Eiffel, but the ultimate traveler's prize is the Louvre.\\n—\\nFodor's\"),\n",
       " ('Musee Carnavalet - Histoire de Paris',\n",
       "  '/paris/attractions/musee-carnavalet-histoire-de-paris',\n",
       "  \"Highlights include the famous The Tennis Court Oath, Marcel Proust’s fully reconstructed bedroom, and a piece of the Bastille prison wall.\\n—\\nLet's Go\\n\\n\\nThis enormous museum, subtitled Histoire de Paris (History of Paris), is housed in two hôtels particuliers.\\n—\\nLonely Planet\\n\\n\\nA museum on the history of Paris, including a set of Napoleon's toiletries, Proust's room, and relics of the Revolution.\\xa0\\n—\\nAtlas Obscura\\n\\n\\nThe first museum you should go to in Paris is this superb 140-room collection dedicated to the history of the city itself.\\n—\\nConcierge\\n\\n\\nHere, 140 chronological rooms depict the history of Paris, from pre-Roman Gaul to the 20th century\\n—\\nTime Out\"),\n",
       " ('Sydney Opera House',\n",
       "  '/sydney/attractions/sydney-opera-house',\n",
       "  \"If possible, grab tickets to see the Australian Chamber Orchestra, Opera Australia, Sydney Symphony Orchestra or The Australian Ballet.\\n—\\nAfar Magazine\\n\\n\\nSydney's most famous landmark (listed as a World Heritage site in 2007) had such a long and troubled construction phase that it's almost a miracle that the building was ever completed.\\n—\\nFodor's\\n\\n\\nDon’t let the name fool you—there’s a lot more than just arias going on under the swooping, cantilevered roofs of Australia’s most famous architectural landmark.\\n—\\nTravel + Leisure\\n\\n\\nThe Sydney Opera House and its signature silhouette symbolizes modern Australia.\\n—\\nCondé Nast Traveler\\n\\n\\nA cutting-edge array of musical and dance performances are on view at the six indoor theaters.\\n—\\nConcierge\"),\n",
       " ('Royal Botanic Garden Sydney',\n",
       "  '/sydney/attractions/royal-botanic-garden-sydney',\n",
       "  \"A fantastic viewpoint over the Opera House sails across to the Harbour Bridge\\n—\\nOn the Grid\\n\\n\\nOver the years, this 30-hectare oasis has withstood fires, cattle grazing, invasions of flying foxes, a windmill, an aviary, and even a zoo.\\n—\\nTime Out\\n\\n\\nSydney’s 158-acre botanic garden, which hugs the harbor between Mrs Macquarie's Chair and the Sydney Opera House, is home to nearly 9,000 plant species\\n—\\nAfar Magazine\\n\\n\\nCome for the flowers, stay for the bats!\\xa0\\n—\\nAtlas Obscura\\n\\n\\nThe Royal Botanic Gardens was established in 1816 as the colony’s veggie patch. The attitude is relaxed.\\n—\\nLonely Planet\"),\n",
       " ('Art Gallery of New South Wales',\n",
       "  '/sydney/attractions/art-gallery-of-new-south-wales',\n",
       "  \"The Art Gallery of New South Wales is a stunningly beautiful gallery which houses an impressive collection of Australian indigenous art, as well as contemporary works.\\n—\\nAfar Magazine\\n\\n\\nThe galleries here present some of the best of Australian art and many fine examples by international artists, including good displays of Aboriginal and Asian art.\\n—\\nFrommer's\\n\\n\\nApart from Canberra's National Gallery, this is the best place to explore the evolution of European-influenced Australian art, as well as the distinctly different concepts that underlie Aboriginal art.\\n—\\nFodor's\\n\\n\\nWith its classical Greek frontage and modern rear end, the ultrareputable Art Gallery of NSW plays a prominent and gregarious role in Sydney society.\\n—\\nLonely Planet\\n\\n\\nA superb panorama of European and Australian artwork including Aboriginal and Torres Strait Islander art.\\n—\\nMichelin Guide\"),\n",
       " ('Shanghai Urban Planning Exhibition Hall',\n",
       "  '/shanghai/attractions/shanghai-urban-planning-exhibition-hall',\n",
       "  \"A full-scale replica of the entire city fully equipped with lights, cars on the street, and even a few tiny pedestrians.\\n—\\nAfar Magazine\\n\\n\\nThis modern building... crowned by a funnel-shaped pergola, highlights the formidable growth of China's economic capital.\\n—\\nMichelin Guide\\n\\n\\nIf you want to see what a city of the future is really going to look like, take yourself over to this museum on the eastern end of People's Square.\\n—\\nFrommer's\\n\\n\\nMore interesting than it sounds, this dramatic five-story glass building showcases the city's future urban development through detailed models and multimedia displays.\\n—\\nConcierge\\n\\n\\nSome cities romanticise their past, others promise good times in the present, but only in China are you expected to visit places that haven’t even been built yet.\\n—\\nLonely Planet\"),\n",
       " ('Shanghai Museum',\n",
       "  '/shanghai/attractions/shanghai-museum',\n",
       "  \"What was once a horse-racing course is now Shanghai’s main public square, People's Square, and located on it is the Shanghai Museum\\n—\\nAfar Magazine\\n\\n\\nWith 120,000 works of art on view, this premier collection of Chinese artifacts warrants at least half a day to browse the ten galleries of calligraphy, jade, bronze, ceramics, and sculptures.\\n—\\nConcierge\\n\\n\\nLook past the eyesore of an exterior—this museum holds the country's premier collection of relics and artifacts.\\n—\\nFodor's\\n\\n\\nThe Shanghai Museum is a must for visitors to the city, who should set aside at least a day, or possibly more, to do it full justice.\\n—\\nMichelin Guide\\n\\n\\nThis must-see Museum guides you through the craft of millennia while simultaneously escorting you through the pages of Chinese history.\\n—\\nLonely Planet\"),\n",
       " ('Shanghai World Financial Center',\n",
       "  '/shanghai/attractions/shanghai-world-financial-center',\n",
       "  'Opened in the middle of 2008, this tapering, 101-story, 492m-high (1,614-ft.) glass tower, resembling a giant, old-fashioned bottle opener, is the tallest building in China.\\n—\\nFrommer\\'s\\n\\n\\nThe neck-craning 492m-high Shànghǎi World Financial Center was never able to grab the ever-elusive title of world\\'s tallest building.\\n—\\nLonely Planet\\n\\n\\nOwned and built by Japan\\'s Mori Corporation, it has been dubbed the \"Corkscrew\" Tower, because of a large rectangular hole near the top.\\n—\\nConcierge\\n\\n\\nChina\\'s tallest building, the \"bottle opener\" has three observation decks, the highest of which is on the 100th floor.\\n—\\nFodor\\'s\\n\\n\\nDubbed the \"Bottle Opener\" Tower... the main draw is the 100th-floor glass corridor Observatory Deck, with cloud-floating views over the city.\\n—\\nCondé Nast Traveler')]"
      ]
     },
     "execution_count": 6,
     "metadata": {},
     "output_type": "execute_result"
    }
   ],
   "source": [
    "summary = list(zip(att_name, att_link, att_listing))\n",
    "summary"
   ]
  },
  {
   "cell_type": "code",
   "execution_count": null,
   "metadata": {},
   "outputs": [],
   "source": [
    "summary_list = []"
   ]
  },
  {
   "cell_type": "code",
   "execution_count": null,
   "metadata": {},
   "outputs": [],
   "source": [
    "i=0\n",
    "for x in range(len(summary)):\n",
    "    j=[i:(i+3)]\n",
    "    summary_list.append(j)\n",
    "    i = +3\n",
    "    \n",
    "    \n",
    "    "
   ]
  },
  {
   "cell_type": "code",
   "execution_count": null,
   "metadata": {},
   "outputs": [],
   "source": [
    "summary[0:3]"
   ]
  },
  {
   "cell_type": "code",
   "execution_count": null,
   "metadata": {},
   "outputs": [],
   "source": [
    "summary[3:6]"
   ]
  },
  {
   "cell_type": "code",
   "execution_count": null,
   "metadata": {},
   "outputs": [],
   "source": []
  },
  {
   "cell_type": "code",
   "execution_count": null,
   "metadata": {},
   "outputs": [],
   "source": []
  }
 ],
 "metadata": {
  "kernelspec": {
   "display_name": "Python 3",
   "language": "python",
   "name": "python3"
  },
  "language_info": {
   "codemirror_mode": {
    "name": "ipython",
    "version": 3
   },
   "file_extension": ".py",
   "mimetype": "text/x-python",
   "name": "python",
   "nbconvert_exporter": "python",
   "pygments_lexer": "ipython3",
   "version": "3.7.4"
  },
  "varInspector": {
   "cols": {
    "lenName": 16,
    "lenType": 16,
    "lenVar": 40
   },
   "kernels_config": {
    "python": {
     "delete_cmd_postfix": "",
     "delete_cmd_prefix": "del ",
     "library": "var_list.py",
     "varRefreshCmd": "print(var_dic_list())"
    },
    "r": {
     "delete_cmd_postfix": ") ",
     "delete_cmd_prefix": "rm(",
     "library": "var_list.r",
     "varRefreshCmd": "cat(var_dic_list()) "
    }
   },
   "types_to_exclude": [
    "module",
    "function",
    "builtin_function_or_method",
    "instance",
    "_Feature"
   ],
   "window_display": false
  }
 },
 "nbformat": 4,
 "nbformat_minor": 2
}

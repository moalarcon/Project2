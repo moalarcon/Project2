{
 "cells": [
  {
   "cell_type": "markdown",
   "metadata": {},
   "source": [
    "# Scraping code takes a list of cities and returns top three attractions from tripexpert.com"
   ]
  },
  {
   "cell_type": "markdown",
   "metadata": {},
   "source": [
    "## \"city list\" (below) should be replaced with input list from users, perhaps uploaded from csv"
   ]
  },
  {
   "cell_type": "code",
   "execution_count": null,
   "metadata": {},
   "outputs": [],
   "source": [
    "from splinter import Browser\n",
    "from splinter.exceptions import ElementDoesNotExist\n",
    "from bs4 import BeautifulSoup"
   ]
  },
  {
   "cell_type": "markdown",
   "metadata": {},
   "source": [
    "# Mac Users"
   ]
  },
  {
   "cell_type": "code",
   "execution_count": null,
   "metadata": {},
   "outputs": [],
   "source": [
    "# https://splinter.readthedocs.io/en/latest/drivers/chrome.html\n",
    "!which chromedriver"
   ]
  },
  {
   "cell_type": "code",
   "execution_count": null,
   "metadata": {},
   "outputs": [],
   "source": [
    "executable_path = {'executable_path': '/usr/local/bin/chromedriver'}\n",
    "browser = Browser('chrome', **executable_path, headless=False)"
   ]
  },
  {
   "cell_type": "code",
   "execution_count": null,
   "metadata": {},
   "outputs": [],
   "source": [
    "city_list = ['sao paulo', 'brussels', 'seattle', 'munich']"
   ]
  },
  {
   "cell_type": "code",
   "execution_count": null,
   "metadata": {},
   "outputs": [],
   "source": [
    "att_name = []\n",
    "att_listing = []\n",
    "att_link = []\n"
   ]
  },
  {
   "cell_type": "code",
   "execution_count": null,
   "metadata": {},
   "outputs": [],
   "source": [
    "# #TESTING download of results and parsing\n",
    "# url = 'https://www.tripexpert.com/medellin/attractions'\n",
    "# url = url.replace(\" \",\"\")\n",
    "# browser.visit(url)\n",
    "# html = browser.html\n",
    "# soup = BeautifulSoup(html, 'html.parser')\n",
    "# banner = soup.find('div', class_='hotels fleft clearfix')\n",
    "# print(banner.prettify())"
   ]
  },
  {
   "cell_type": "code",
   "execution_count": null,
   "metadata": {},
   "outputs": [],
   "source": [
    "# names = banner.find_all('h2')\n",
    "# name = names[0].a.text.strip()\n",
    "# link = names[0].a['href']\n",
    "# desc = banner.find('div', class_='tabcontent')\n",
    "# desc = desc.p.text.strip()\n"
   ]
  },
  {
   "cell_type": "code",
   "execution_count": null,
   "metadata": {},
   "outputs": [],
   "source": [
    "# desc = banner.find_all('div', class_='tabcontent')\n",
    "# # desc = desc.p.text.strip()\n",
    "# desc = desc[0].text.strip()\n",
    "# print(desc)"
   ]
  },
  {
   "cell_type": "code",
   "execution_count": null,
   "metadata": {},
   "outputs": [],
   "source": [
    "for x in range(len(city_list)):\n",
    "    url = 'https://www.tripexpert.com/' + city_list[x] + '/attractions'\n",
    "    url = url.replace(\" \",\"-\")\n",
    "    print(url)\n",
    "    browser.visit(url)\n",
    "    html = browser.html\n",
    "    soup = BeautifulSoup(html, 'html.parser')\n",
    "    banner = soup.find('div', class_='hotels fleft clearfix')\n",
    "    names = banner.find_all('h2')\n",
    "    desc = banner.find_all('div', class_='tabcontent')\n",
    "    name1 = names[0].a.text.strip()\n",
    "    att_name.append(name1)\n",
    "    link1 = names[0].a['href']\n",
    "    att_link.append(link1)\n",
    "    desc1 = desc[0].text.strip()\n",
    "    att_listing.append(desc1)\n",
    "    name2 = names[1].a.text.strip()\n",
    "    att_name.append(name2)\n",
    "    link2 = names[1].a['href']\n",
    "    att_link.append(link2)\n",
    "    desc2 = desc[1].text.strip()\n",
    "    att_listing.append(desc2)\n",
    "    name3 = names[2].a.text.strip()\n",
    "    att_name.append(name3)\n",
    "    link3 = names[2].a['href']\n",
    "    att_link.append(link3)\n",
    "    desc3 = desc[2].text.strip()\n",
    "    att_listing.append(desc3)\n",
    "    \n"
   ]
  },
  {
   "cell_type": "code",
   "execution_count": null,
   "metadata": {},
   "outputs": [],
   "source": [
    "att_listing\n"
   ]
  },
  {
   "cell_type": "code",
   "execution_count": null,
   "metadata": {},
   "outputs": [],
   "source": [
    "summary = list(zip(att_name, att_link, att_listing))\n",
    "summary"
   ]
  },
  {
   "cell_type": "code",
   "execution_count": null,
   "metadata": {},
   "outputs": [],
   "source": []
  },
  {
   "cell_type": "code",
   "execution_count": null,
   "metadata": {},
   "outputs": [],
   "source": []
  },
  {
   "cell_type": "code",
   "execution_count": null,
   "metadata": {},
   "outputs": [],
   "source": []
  },
  {
   "cell_type": "code",
   "execution_count": null,
   "metadata": {},
   "outputs": [],
   "source": []
  }
 ],
 "metadata": {
  "kernelspec": {
   "display_name": "Python 3",
   "language": "python",
   "name": "python3"
  },
  "language_info": {
   "codemirror_mode": {
    "name": "ipython",
    "version": 3
   },
   "file_extension": ".py",
   "mimetype": "text/x-python",
   "name": "python",
   "nbconvert_exporter": "python",
   "pygments_lexer": "ipython3",
   "version": "3.7.4"
  },
  "varInspector": {
   "cols": {
    "lenName": 16,
    "lenType": 16,
    "lenVar": 40
   },
   "kernels_config": {
    "python": {
     "delete_cmd_postfix": "",
     "delete_cmd_prefix": "del ",
     "library": "var_list.py",
     "varRefreshCmd": "print(var_dic_list())"
    },
    "r": {
     "delete_cmd_postfix": ") ",
     "delete_cmd_prefix": "rm(",
     "library": "var_list.r",
     "varRefreshCmd": "cat(var_dic_list()) "
    }
   },
   "types_to_exclude": [
    "module",
    "function",
    "builtin_function_or_method",
    "instance",
    "_Feature"
   ],
   "window_display": false
  }
 },
 "nbformat": 4,
 "nbformat_minor": 2
}

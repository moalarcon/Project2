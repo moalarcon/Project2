{
 "cells": [
  {
   "cell_type": "code",
   "execution_count": null,
   "metadata": {},
   "outputs": [],
   "source": [
    "%matplotlib inline\n",
    "from matplotlib import style\n",
    "style.use('fivethirtyeight')\n",
    "import matplotlib.pyplot as plt\n",
    "import numpy as np\n",
    "import pandas as pd\n",
    "import datetime as dt\n",
    "from flask import Flask, jsonify\n",
    "\n",
    "# Incorporated citipy to determine city based on latitude and longitude\n",
    "from citipy import citipy\n",
    "\n",
    "\n",
    "# Python SQL toolkit and Object Relational Mapper\n",
    "import sqlalchemy\n",
    "from sqlalchemy.ext.automap import automap_base\n",
    "from sqlalchemy.orm import Session\n",
    "from sqlalchemy import create_engine, func, inspect"
   ]
  },
  {
   "cell_type": "code",
   "execution_count": 1,
   "metadata": {},
   "outputs": [],
   "source": [
    "#### NOTES: taken from WeatherPy homework (python APIs)\n",
    "baseURL = \"https://api.globe.gov/search/v1/measurement/protocol/measureddate/point/distance/?protocols=air_temp_dailies&protocols=humidity_noons&protocols=precipitations\"\n",
    "\n",
    "#### NOTES:\n",
    "#### will need to iterate through a list for API call bcz we have multiple destinations\n",
    "#### I forsee the start/end dates being an issue because: \n",
    "#### case 1) if we want historical data of various years we will have find a way to make the YYYY of the user input decrease (i.e. 2020-2, 2020-3, 2020-4, etc)\n",
    "#### case 2) we could alternatively just get weather data for the past year and make visualizations of the data over the course of the year (e.g., travel dates 08/01/2020 but show data from 01/01/2018-12/31/2018)\n",
    "\n",
    "\n",
    "#### NOTES: I need to see what variables are called in our Project-1 to transfer the User Input for the API call\n",
    "# User input for info on trip (taken from Project-1); \n",
    "start_date = []\n",
    "end_date = []\n",
    "destinations = []\n",
    "lats=[]\n",
    "lons=[]\n",
    "\n",
    "\n"
   ]
  },
  {
   "cell_type": "code",
   "execution_count": null,
   "metadata": {},
   "outputs": [],
   "source": [
    "#API query URL\n",
    "query = f\"{baseURL}&startdate={start_date}&enddate={end_date}&lat={lat}&lon={lon}&distanceinkm=30&geojson=TRUE&sample=TRUE\"\n",
    "\n",
    "#initialize empty lists to append necessary weather data\n",
    "\n",
    "#### geoJSON key: airtempdailiesMeasuredAt\n",
    "date = []\n",
    "#### geoJSON key: airtempdailiesMaximumTemp\n",
    "max_temp = []\n",
    "#### geoJSON key: airtempdailiesMinimumTemp\n",
    "min_temp = []\n",
    "#### geoJSON key: precipitationsOccurrenceType\n",
    "#### geoJSON key: precipitationsLiquidAccumulation\n",
    "precip_type = []\n",
    "precip = []\n",
    "#### geoJSON key: humiditynoonsRelativeHumidityPercent\n",
    "humidity = []\n",
    "\n",
    "#initiate record number counter\n",
    "number = 1\n",
    "\n",
    "#### NOTES: I foresee getting the data out of this JSON being an issue bcz of its structure.. TBD\n",
    "#### need to work on the for-loop depending on the structure of our destinations list\n",
    "\n",
    "#iterate through desintations list to query the API for each city\n",
    "for x in range(len(destinations)):\n",
    "    try:\n",
    "        response = requests.get(f'{query}') \n",
    "        max_temp.append(response['features'][0]['properties']['airtempdailiesMaximumTemp'])\n",
    "        min_temp.append(response['features'][0]['properties']['airtempdailiesMinimumTemp'])\n",
    "        precip_type.append((response['features'][0]['properties']['precipitationsOccurrenceType'])\n",
    "        precip.append(response['features'][0]['properties']['precipitationsLiquidAccumulation'])\n",
    "        precip.append(response['features'][0]['properties']['humiditynoonsRelativeHumidityPercent'])\n",
    "        number = number + 1\n",
    "                           # print status and city name\n",
    "        print(f' Processing Weather data for {destinations[x]} | Done.')"
   ]
  },
  {
   "cell_type": "code",
   "execution_count": null,
   "metadata": {},
   "outputs": [],
   "source": [
    "#convert data to DataFrame\n",
    "weather_df = pd.DataFrame({\"City\": destinations,\n",
    "                           #\"Country\": country_codes,\n",
    "                           \"Latitude\": lats,\n",
    "                           \"Longitude\": lons,\n",
    "                           \"Dates\": date,\n",
    "                           \"Max Temp\": max_temp,\n",
    "                           \"Min Temp\": min_temp,\n",
    "                           \"Precipitation\": precip_type,\n",
    "                           \"Precipitation Amt\": precip,\n",
    "                           \"Humidity\": humidity,\n",
    "                          })\n",
    "\n",
    "#convert DataFrame to Dict\n",
    " travelweather_data= weather_df.to_dict()"
   ]
  },
  {
   "cell_type": "code",
   "execution_count": null,
   "metadata": {},
   "outputs": [],
   "source": [
    "#### NOTES: could copy the WeatherPy hw and make annual graphs of weather trend for each city/destination\n",
    "#### line graph of Annual precipitation for Madrid, London, Paris; \n",
    "#### error bar graph (max, min, mean) with annual temperatures of Madrid London Paris;\n",
    "#### bar graph of Annual humidity for Madrid, London Paris"
   ]
  }
 ],
 "metadata": {
  "kernelspec": {
   "display_name": "Python 3",
   "language": "python",
   "name": "python3"
  },
  "language_info": {
   "codemirror_mode": {
    "name": "ipython",
    "version": 3
   },
   "file_extension": ".py",
   "mimetype": "text/x-python",
   "name": "python",
   "nbconvert_exporter": "python",
   "pygments_lexer": "ipython3",
   "version": "3.7.3"
  }
 },
 "nbformat": 4,
 "nbformat_minor": 2
}

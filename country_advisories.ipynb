{
 "cells": [
  {
   "cell_type": "markdown",
   "metadata": {},
   "source": [
    "# Scraping code takes a list of countries and returns travel advisories from travel.state.gov"
   ]
  },
  {
   "cell_type": "markdown",
   "metadata": {},
   "source": [
    "## \"country list\" (below) should be replaced with input list from users, perhaps uploaded from csv"
   ]
  },
  {
   "cell_type": "code",
   "execution_count": 1,
   "metadata": {},
   "outputs": [],
   "source": [
    "from splinter import Browser\n",
    "from splinter.exceptions import ElementDoesNotExist\n",
    "from bs4 import BeautifulSoup"
   ]
  },
  {
   "cell_type": "markdown",
   "metadata": {},
   "source": [
    "# Mac Users"
   ]
  },
  {
   "cell_type": "code",
   "execution_count": null,
   "metadata": {},
   "outputs": [],
   "source": [
    "# https://splinter.readthedocs.io/en/latest/drivers/chrome.html\n",
    "!which chromedriver"
   ]
  },
  {
   "cell_type": "code",
   "execution_count": 2,
   "metadata": {},
   "outputs": [],
   "source": [
    "executable_path = {'executable_path': '/usr/local/bin/chromedriver'}\n",
    "browser = Browser('chrome', **executable_path, headless=False)"
   ]
  },
  {
   "cell_type": "code",
   "execution_count": 3,
   "metadata": {},
   "outputs": [],
   "source": [
    "country_list = ['France', 'Australia', 'China', 'New Zealand', 'Gabon']"
   ]
  },
  {
   "cell_type": "code",
   "execution_count": 4,
   "metadata": {},
   "outputs": [],
   "source": [
    "country_date = []\n",
    "country_level = []\n",
    "country_report = []\n",
    "country_url = []\n"
   ]
  },
  {
   "cell_type": "code",
   "execution_count": null,
   "metadata": {},
   "outputs": [],
   "source": [
    "# TESTING download of results and parsing\n",
    "# url = 'https://travel.state.gov/content/travel/en/international-travel/International-Travel-Country-Information-Pages/Australia.html'\n",
    "# url = url.replace(\" \",\"\")\n",
    "# browser.visit(url)\n",
    "# html = browser.html\n",
    "# soup = BeautifulSoup(html, 'html.parser')\n",
    "# banner = soup.find('div', class_= 'tsg-rwd-csi-travel-advisories')\n",
    "# print(banner)"
   ]
  },
  {
   "cell_type": "code",
   "execution_count": null,
   "metadata": {},
   "outputs": [],
   "source": [
    "# date = banner.find('div', class_='tsg-rwd-eab-date-frame').text.strip()\n",
    "# print(date)"
   ]
  },
  {
   "cell_type": "code",
   "execution_count": null,
   "metadata": {},
   "outputs": [],
   "source": [
    "# level = banner.find('h3', class_='tsg-rwd-eab-title-frame').text.strip()\n",
    "# print(level)"
   ]
  },
  {
   "cell_type": "code",
   "execution_count": null,
   "metadata": {},
   "outputs": [],
   "source": [
    "# report = banner.find('div', class_='tsg-rwd-alert-teaser').span.text.strip()\n",
    "# print(report)"
   ]
  },
  {
   "cell_type": "code",
   "execution_count": 6,
   "metadata": {},
   "outputs": [
    {
     "name": "stdout",
     "output_type": "stream",
     "text": [
      "https://travel.state.gov/content/travel/en/international-travel/International-Travel-Country-Information-Pages/France.html\n",
      "https://travel.state.gov/content/travel/en/international-travel/International-Travel-Country-Information-Pages/Australia.html\n",
      "https://travel.state.gov/content/travel/en/international-travel/International-Travel-Country-Information-Pages/China.html\n",
      "https://travel.state.gov/content/travel/en/international-travel/International-Travel-Country-Information-Pages/NewZealand.html\n",
      "https://travel.state.gov/content/travel/en/international-travel/International-Travel-Country-Information-Pages/Gabon.html\n"
     ]
    }
   ],
   "source": [
    "for x in range(len(country_list)):\n",
    "    url = 'https://travel.state.gov/content/travel/en/international-travel/International-Travel-Country-Information-Pages/' + country_list[x] + '.html'\n",
    "    url = url.replace(\" \",\"\")\n",
    "    country_url.append(url)\n",
    "    print(url)\n",
    "    browser.visit(url)\n",
    "    html = browser.html\n",
    "    soup = BeautifulSoup(html, 'html.parser')\n",
    "    banner = soup.find('div', class_= 'tsg-rwd-csi-travel-advisories')\n",
    "    date = banner.find('div', class_='tsg-rwd-eab-date-frame').text.strip()\n",
    "    country_date.append(\"Last advisory date: \" + date)\n",
    "    level = banner.find('h3', class_='tsg-rwd-eab-title-frame').text.strip()\n",
    "    country_level.append(level)\n",
    "    report = banner.find('div', class_='tsg-rwd-alert-teaser').span.text.strip()\n",
    "    country_report.append(report)\n"
   ]
  },
  {
   "cell_type": "code",
   "execution_count": 11,
   "metadata": {},
   "outputs": [
    {
     "data": {
      "text/plain": [
       "[['France - Level 2: Exercise Increased Caution',\n",
       "  'Australia - Level 1: Exercise Normal Precautions',\n",
       "  'China - Level 4: Do Not Travel',\n",
       "  'New Zealand - Level 1: Exercise Normal Precautions',\n",
       "  'Gabon - Level 1: Exercise Normal Precautions'],\n",
       " ['Last advisory date: April 1, 2019',\n",
       "  'Last advisory date: January 21, 2020',\n",
       "  'Last advisory date: February 2, 2020',\n",
       "  'Last advisory date: November 21, 2019',\n",
       "  'Last advisory date: January 10, 2019'],\n",
       " ['Exercise increased caution in France due to terrorism and civil unrest.',\n",
       "  'Exercise normal precautions in Australia. Areas affected by bushfires have increased risk. Read the entire Travel Advisory.',\n",
       "  'Do not travel to China due to the novel coronavirus first identified in Wuhan, China. On January 30, the World Health Organization (WHO) determined the rapidly spreading outbreak constitutes a Public Health Emergency of International Concern (PHEIC). Travelers should be prepared for the possibility of travel restrictions with little or no advance notice. Most commercial air carriers have reduced or suspended routes to and from China.',\n",
       "  'Exercise normal precautions in New Zealand.',\n",
       "  'Exercise normal precautions in Gabon.']]"
      ]
     },
     "execution_count": 11,
     "metadata": {},
     "output_type": "execute_result"
    }
   ],
   "source": [
    "#Creating a single list of lists for use in other code / javascript\n",
    "summary_report = [country_level, country_date, country_report]\n",
    "summary_report"
   ]
  },
  {
   "cell_type": "code",
   "execution_count": 16,
   "metadata": {},
   "outputs": [
    {
     "name": "stdout",
     "output_type": "stream",
     "text": [
      "China - Level 4: Do Not Travel\n",
      "Last advisory date: February 2, 2020\n",
      "Do not travel to China due to the novel coronavirus first identified in Wuhan, China. On January 30, the World Health Organization (WHO) determined the rapidly spreading outbreak constitutes a Public Health Emergency of International Concern (PHEIC). Travelers should be prepared for the possibility of travel restrictions with little or no advance notice. Most commercial air carriers have reduced or suspended routes to and from China.\n"
     ]
    }
   ],
   "source": [
    "#Testing print summary, using indexing in the list of lists\n",
    "print(summary_report[0][2])\n",
    "print(summary_report[1][2])\n",
    "print(summary_report[2][2])"
   ]
  },
  {
   "cell_type": "code",
   "execution_count": null,
   "metadata": {},
   "outputs": [],
   "source": []
  }
 ],
 "metadata": {
  "kernelspec": {
   "display_name": "Python 3",
   "language": "python",
   "name": "python3"
  },
  "language_info": {
   "codemirror_mode": {
    "name": "ipython",
    "version": 3
   },
   "file_extension": ".py",
   "mimetype": "text/x-python",
   "name": "python",
   "nbconvert_exporter": "python",
   "pygments_lexer": "ipython3",
   "version": "3.7.4"
  },
  "varInspector": {
   "cols": {
    "lenName": 16,
    "lenType": 16,
    "lenVar": 40
   },
   "kernels_config": {
    "python": {
     "delete_cmd_postfix": "",
     "delete_cmd_prefix": "del ",
     "library": "var_list.py",
     "varRefreshCmd": "print(var_dic_list())"
    },
    "r": {
     "delete_cmd_postfix": ") ",
     "delete_cmd_prefix": "rm(",
     "library": "var_list.r",
     "varRefreshCmd": "cat(var_dic_list()) "
    }
   },
   "types_to_exclude": [
    "module",
    "function",
    "builtin_function_or_method",
    "instance",
    "_Feature"
   ],
   "window_display": false
  }
 },
 "nbformat": 4,
 "nbformat_minor": 2
}

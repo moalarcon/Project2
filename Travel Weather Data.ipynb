{
 "cells": [
  {
   "cell_type": "code",
   "execution_count": null,
   "metadata": {},
   "outputs": [],
   "source": [
    "%matplotlib inline\n",
    "from matplotlib import style\n",
    "style.use('fivethirtyeight')\n",
    "import matplotlib.pyplot as plt\n",
    "import numpy as np\n",
    "import pandas as pd\n",
    "import datetime as dt\n",
    "from flask import Flask, jsonify\n",
    "\n",
    "# Incorporated citipy to determine city based on latitude and longitude\n",
    "from citipy import citipy\n",
    "\n",
    "\n",
    "# Python SQL toolkit and Object Relational Mapper\n",
    "import sqlalchemy\n",
    "from sqlalchemy.ext.automap import automap_base\n",
    "from sqlalchemy.orm import Session\n",
    "from sqlalchemy import create_engine, func, inspect"
   ]
  },
  {
   "cell_type": "code",
   "execution_count": null,
   "metadata": {},
   "outputs": [],
   "source": [
    "#### taken from WeatherPy homework (python APIs)\n",
    "baseURL = \"https://api.globe.gov/search/v1/measurement/protocol/measureddate/point/distance/?protocols=air_temp_dailies&protocols=humidity_noons&protocols=precipitations\"\n",
    "#### info that we will get from user input\n",
    "start_date = []\n",
    "end_date = []\n",
    "cities = []\n",
    "lats=[]\n",
    "lons=[]\n",
    "\n",
    "#API query URL\n",
    "query = f\"{baseURL}&startdate={start_date}&enddate={end_date}&lat={lat}&lon={lon}&distanceinkm=30&geojson=TRUE&sample=TRUE\"\n",
    "\n",
    "#initialize empty lists to append necessary weather data\n",
    "\n",
    "#geoJSON key: airtempdailiesMaximumTemp\n",
    "max_temp = []\n",
    "#geoJSON key: airtempdailiesMinimumTemp\n",
    "min_temp = []\n",
    "#geoJSON key: precipitationsLiquidAccumulation\n",
    "#geoJSON key: precipitationsOccurrenceType\n",
    "precip_type = []\n",
    "precip = []\n",
    "#geoJSON key: humiditynoonsRelativeHumidityPercent\n",
    "humidity = []\n",
    "\n",
    "#initiate record number counter\n",
    "number = 1\n",
    "\n",
    "for x in range(len(cities)):\n",
    "    try:\n",
    "        response = requests.get(f'{query}') \n",
    "        lat.append(response['coord']['lat'])\n",
    "        long.append(response['coord']['lon'])\n",
    "        temp.append(response['main']['temp'])\n",
    "        humid.append(response['main']['humidity'])\n",
    "        cloud.append(response['clouds']['all'])\n",
    "        wind.append(response['wind']['speed'])\n",
    "        number = number + 1\n"
   ]
  },
  {
   "cell_type": "code",
   "execution_count": null,
   "metadata": {},
   "outputs": [],
   "source": []
  }
 ],
 "metadata": {
  "kernelspec": {
   "display_name": "Python 3",
   "language": "python",
   "name": "python3"
  },
  "language_info": {
   "codemirror_mode": {
    "name": "ipython",
    "version": 3
   },
   "file_extension": ".py",
   "mimetype": "text/x-python",
   "name": "python",
   "nbconvert_exporter": "python",
   "pygments_lexer": "ipython3",
   "version": "3.7.3"
  }
 },
 "nbformat": 4,
 "nbformat_minor": 2
}
